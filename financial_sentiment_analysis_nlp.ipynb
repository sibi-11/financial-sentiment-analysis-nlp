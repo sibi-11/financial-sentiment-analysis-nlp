{
  "nbformat": 4,
  "nbformat_minor": 0,
  "metadata": {
    "colab": {
      "provenance": []
    },
    "kernelspec": {
      "name": "python3",
      "display_name": "Python 3"
    },
    "language_info": {
      "name": "python"
    }
  },
  "cells": [
    {
      "cell_type": "code",
      "source": [
        "import pandas as pd\n",
        "import numpy as np\n",
        "from transformers import pipeline\n",
        "import matplotlib.pyplot as plt\n",
        "import seaborn as sns"
      ],
      "metadata": {
        "id": "kjt6rmAQZWDy"
      },
      "execution_count": 18,
      "outputs": []
    },
    {
      "cell_type": "code",
      "source": [
        "sns.set_style(\"whitegrid\")\n",
        "plt.rcParams['figure.figsize'] = (10, 6)"
      ],
      "metadata": {
        "id": "MXlajw6GZXPV"
      },
      "execution_count": 19,
      "outputs": []
    },
    {
      "cell_type": "code",
      "source": [
        "df = pd.read_csv('/content/sample_data/data.csv', encoding='latin-1', header=None) # This dataset has no header\n",
        "df.columns = ['Sentiment', 'Headline'] # Name the columns\n",
        "print(\"Dataset shape:\", df.shape)\n",
        "print(\"\\nFirst 5 entries:\")\n",
        "print(df.head())"
      ],
      "metadata": {
        "colab": {
          "base_uri": "https://localhost:8080/"
        },
        "id": "ghVip6aya35_",
        "outputId": "429680fc-9a44-434e-b7c2-2a88ea07532c"
      },
      "execution_count": 20,
      "outputs": [
        {
          "output_type": "stream",
          "name": "stdout",
          "text": [
            "Dataset shape: (5843, 2)\n",
            "\n",
            "First 5 entries:\n",
            "                                           Sentiment   Headline\n",
            "0                                           Sentence  Sentiment\n",
            "1  The GeoSolutions technology will leverage Bene...   positive\n",
            "2  $ESI on lows, down $1.50 to $2.50 BK a real po...   negative\n",
            "3  For the last quarter of 2010 , Componenta 's n...   positive\n",
            "4  According to the Finnish-Russian Chamber of Co...    neutral\n"
          ]
        }
      ]
    },
    {
      "cell_type": "code",
      "source": [
        "print(\"\\nSentiment Distribution:\")\n",
        "print(df['Sentiment'].value_counts())"
      ],
      "metadata": {
        "colab": {
          "base_uri": "https://localhost:8080/"
        },
        "id": "8NxinhEEa4zn",
        "outputId": "1b8f6567-b13d-422e-ad08-ff6fe628aba1"
      },
      "execution_count": 21,
      "outputs": [
        {
          "output_type": "stream",
          "name": "stdout",
          "text": [
            "\n",
            "Sentiment Distribution:\n",
            "Sentiment\n",
            "Pretax loss totalled EUR 162.3 mn compared to a profit of EUR 253.5 mn in 2007 .                                                                                            2\n",
            "The repurchases shall decrease the distributable capital and reserves .                                                                                                     2\n",
            "L&T 's net profit for the whole 2010 dropped to EUR 36 million from EUR 45 million for 2009 .                                                                               2\n",
            "Profit before taxes decreased to EUR 31.6 mn from EUR 50.0 mn the year before .                                                                                             2\n",
            "Finnish automation solutions developer Cencorp Corporation ( OMX Helsinki : CNC1V ) issued on Thursday ( 18 September ) a profit warning for the third quarter of 2008 .    2\n",
            "                                                                                                                                                                           ..\n",
            "NYSE owner ICE considers offer for LSE                                                                                                                                      1\n",
            "@Joerazorback This time I think $AAPL will miss again. Generally speaking market is near top when everyone thinks that market goes only up                                  1\n",
            "The launch of the plant in June went well , and it has been producing the advanced fuel for a couple of weeks .                                                             1\n",
            "In the spring 2006 , a total of 386,530 Stock Options 2002 B were annulled .                                                                                                1\n",
            "Ethanol would be made from barley , and production could start in 2008 .                                                                                                    1\n",
            "Name: count, Length: 5323, dtype: int64\n"
          ]
        }
      ]
    },
    {
      "cell_type": "code",
      "source": [
        "print(\"\\nLoading pre-trained model...\")\n",
        "classifier = pipeline(\n",
        "    \"sentiment-analysis\",\n",
        "    model=\"mrm8488/distilroberta-finetuned-financial-news-sentiment-analysis\",\n",
        "    tokenizer=\"mrm8488/distilroberta-finetuned-financial-news-sentiment-analysis\"\n",
        ")\n",
        "print(\"Model loaded successfully!\")"
      ],
      "metadata": {
        "colab": {
          "base_uri": "https://localhost:8080/"
        },
        "id": "uVXkTZnMa5Qy",
        "outputId": "ac9612c3-b822-4589-f947-fc18d9a09add"
      },
      "execution_count": 22,
      "outputs": [
        {
          "output_type": "stream",
          "name": "stdout",
          "text": [
            "\n",
            "Loading pre-trained model...\n"
          ]
        },
        {
          "output_type": "stream",
          "name": "stderr",
          "text": [
            "Device set to use cpu\n"
          ]
        },
        {
          "output_type": "stream",
          "name": "stdout",
          "text": [
            "Model loaded successfully!\n"
          ]
        }
      ]
    },
    {
      "cell_type": "code",
      "source": [
        "def get_sentiment(text):\n",
        "    \"\"\"\n",
        "    This function takes a text string and returns the sentiment label and score.\n",
        "    \"\"\"\n",
        "    try:\n",
        "        result = classifier(text)[0]\n",
        "        return result['label'], result['score']\n",
        "    except:\n",
        "        return \"Error\", 0.0"
      ],
      "metadata": {
        "id": "r2FiWd1IbIq_"
      },
      "execution_count": 23,
      "outputs": []
    },
    {
      "cell_type": "code",
      "source": [
        "sample_df = df.sample(n=100, random_state=42).copy()\n",
        "print(f\"\\nAnalyzing sentiment for {len(sample_df)} headlines...\")"
      ],
      "metadata": {
        "colab": {
          "base_uri": "https://localhost:8080/"
        },
        "id": "VuJdEdUXbNAH",
        "outputId": "299c572f-ecff-42cb-86a2-66d20a096e9f"
      },
      "execution_count": 24,
      "outputs": [
        {
          "output_type": "stream",
          "name": "stdout",
          "text": [
            "\n",
            "Analyzing sentiment for 100 headlines...\n"
          ]
        }
      ]
    },
    {
      "cell_type": "code",
      "source": [
        "results = sample_df['Headline'].apply(get_sentiment)\n",
        "sample_df[['Predicted_Sentiment', 'Confidence']] = pd.DataFrame(results.tolist(), index=sample_df.index)"
      ],
      "metadata": {
        "id": "PIyCGjflbTvF"
      },
      "execution_count": 25,
      "outputs": []
    },
    {
      "cell_type": "code",
      "source": [
        "print(\"\\nSample Results with Prediction:\")\n",
        "print(sample_df[['Headline', 'Sentiment', 'Predicted_Sentiment', 'Confidence']].head(10))\n"
      ],
      "metadata": {
        "colab": {
          "base_uri": "https://localhost:8080/"
        },
        "id": "g_iQDaHsbYBz",
        "outputId": "5882044f-5f35-474a-b658-5c1a7abb9999"
      },
      "execution_count": 26,
      "outputs": [
        {
          "output_type": "stream",
          "name": "stdout",
          "text": [
            "\n",
            "Sample Results with Prediction:\n",
            "      Headline                                          Sentiment  \\\n",
            "2900   neutral  In future , the plant will focus on the produc...   \n",
            "351    neutral  The company said production volumes so far ind...   \n",
            "994   positive  The company 's consolidated operating profit a...   \n",
            "3612   neutral  According to its notice , Skandinaviska Enskil...   \n",
            "2763   neutral  Aldata Solution Oyj Stock Exchange Release 11 ...   \n",
            "4725   neutral  The Finnish company previously said its operat...   \n",
            "4787  positive  Added long at friday close  $SPY $LABU $BLUE $...   \n",
            "4586   neutral  The business has sales of about ( Euro ) 35 mi...   \n",
            "3237  positive  `` With this agreement , we can continue our g...   \n",
            "408    neutral  It inspects the companys strategic strengths a...   \n",
            "\n",
            "     Predicted_Sentiment  Confidence  \n",
            "2900             neutral    0.999857  \n",
            "351              neutral    0.999857  \n",
            "994              neutral    0.999829  \n",
            "3612             neutral    0.999857  \n",
            "2763             neutral    0.999857  \n",
            "4725             neutral    0.999857  \n",
            "4787             neutral    0.999829  \n",
            "4586             neutral    0.999857  \n",
            "3237             neutral    0.999829  \n",
            "408              neutral    0.999857  \n"
          ]
        }
      ]
    },
    {
      "cell_type": "code",
      "source": [
        "plt.figure(figsize=(12, 5))\n",
        "\n",
        "plt.subplot(1, 2, 1)\n",
        "sns.countplot(x=sample_df['Predicted_Sentiment'], order=['negative', 'neutral', 'positive'])\n",
        "plt.title('Distribution of Predicted Sentiments')\n",
        "plt.xlabel('Sentiment')\n",
        "plt.ylabel('Count')"
      ],
      "metadata": {
        "colab": {
          "base_uri": "https://localhost:8080/",
          "height": 504
        },
        "id": "xDb9y-MqbcBK",
        "outputId": "368fc752-f098-444f-b58e-3d669060d76c"
      },
      "execution_count": 27,
      "outputs": [
        {
          "output_type": "execute_result",
          "data": {
            "text/plain": [
              "Text(0, 0.5, 'Count')"
            ]
          },
          "metadata": {},
          "execution_count": 27
        },
        {
          "output_type": "display_data",
          "data": {
            "text/plain": [
              "<Figure size 1200x500 with 1 Axes>"
            ],
            "image/png": "[encoded data removed]"
          },
          "metadata": {}
        }
      ]
    },
    {
      "cell_type": "code",
      "source": [
        "plt.subplot(1, 2, 2)\n",
        "confidence_by_sentiment = sample_df.groupby('Predicted_Sentiment')['Confidence'].mean().reset_index()\n",
        "sns.barplot(x='Predicted_Sentiment', y='Confidence', data=confidence_by_sentiment, order=['negative', 'neutral', 'positive'])\n",
        "plt.title('Average Confidence by Sentiment')\n",
        "plt.xlabel('Sentiment')\n",
        "plt.ylabel('Average Confidence')\n",
        "plt.ylim(0.7, 1)"
      ],
      "metadata": {
        "colab": {
          "base_uri": "https://localhost:8080/",
          "height": 581
        },
        "id": "fpeuNQpQbed1",
        "outputId": "198f4957-bc24-4010-fc8b-244f9093208d"
      },
      "execution_count": 28,
      "outputs": [
        {
          "output_type": "execute_result",
          "data": {
            "text/plain": [
              "(0.7, 1.0)"
            ]
          },
          "metadata": {},
          "execution_count": 28
        },
        {
          "output_type": "display_data",
          "data": {
            "text/plain": [
              "<Figure size 1000x600 with 1 Axes>"
            ],
            "image/png": "[encoded data removed]"
          },
          "metadata": {}
        }
      ]
    },
    {
      "cell_type": "code",
      "source": [
        "plt.tight_layout()\n",
        "plt.savefig('sentiment_analysis_results.png')\n",
        "plt.show()\n"
      ],
      "metadata": {
        "colab": {
          "base_uri": "https://localhost:8080/",
          "height": 34
        },
        "id": "XbWqOdQEbhfI",
        "outputId": "d668d97b-adfc-401b-bb2f-c8e2555d55da"
      },
      "execution_count": 29,
      "outputs": [
        {
          "output_type": "display_data",
          "data": {
            "text/plain": [
              "<Figure size 1000x600 with 0 Axes>"
            ]
          },
          "metadata": {}
        }
      ]
    },
    {
      "cell_type": "code",
      "source": [
        "sample_df.to_csv('financial_news_sentiment_predictions.csv', index=False)\n",
        "print(\"\\nAnalysis complete! Results saved to 'financial_news_sentiment_predictions.csv'\")"
      ],
      "metadata": {
        "colab": {
          "base_uri": "https://localhost:8080/"
        },
        "id": "iemKgPmnbkgT",
        "outputId": "ced421bc-8aa4-4052-c39f-e8f57397a460"
      },
      "execution_count": 30,
      "outputs": [
        {
          "output_type": "stream",
          "name": "stdout",
          "text": [
            "\n",
            "Analysis complete! Results saved to 'financial_news_sentiment_predictions.csv'\n"
          ]
        }
      ]
    },
    {
      "cell_type": "code",
      "source": [],
      "metadata": {
        "id": "BOxf6CR4bu08"
      },
      "execution_count": 30,
      "outputs": []
    }
  ]
}